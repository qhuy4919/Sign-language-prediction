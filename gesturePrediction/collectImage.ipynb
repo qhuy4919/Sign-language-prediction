{
 "cells": [
  {
   "cell_type": "code",
   "execution_count": 1,
   "metadata": {},
   "outputs": [],
   "source": [
    "import cv2\n",
    "import os\n",
    "import time\n",
    "import uuid\n",
    "import handTrackingModule as htm\n",
    "import numpy as np\n"
   ]
  },
  {
   "cell_type": "code",
   "execution_count": 2,
   "metadata": {},
   "outputs": [],
   "source": [
    "IMAGE_PATH = 'train_data'\n",
    "labels = ['ok01']\n",
    "number_imgs = 20\n",
    "contours_size = 100\n",
    "padding = 55\n",
    "detector = htm.handDetector(detectionCon=0.75)\n"
   ]
  },
  {
   "cell_type": "code",
   "execution_count": 3,
   "metadata": {},
   "outputs": [],
   "source": [
    "\n",
    "def reshape_contours(x0, x1, y0, y1, padding):\n",
    "    if(abs(x0 - x1) > abs(y0 - y1)):\n",
    "        padding_0 = padding\n",
    "        x0_new = x0 - padding_0\n",
    "        x1_new = x1 + padding_0\n",
    "        len_axis_x = abs(x0 - x1) + 2*padding_0\n",
    "        padding_1 = (len_axis_x - abs(y0 - y1))//2\n",
    "        y0_new, y1_new = y0 - padding_1, y1 + padding_1\n",
    "\n",
    "        return x0_new, x1_new, y0_new, y1_new\n",
    "    else:\n",
    "        padding_0 = padding\n",
    "        y0_new = y0 - padding_0\n",
    "        y1_new = y1 + padding_0\n",
    "        len_axis_y = abs(y0 - y1) + 2*padding_0\n",
    "        padding_1 = (len_axis_y - abs(y0 - y1))//2\n",
    "        x0_new, x1_new = x0 - padding_1, x1 + padding_1\n",
    "\n",
    "        return x0_new, x1_new, y0_new, y1_new"
   ]
  },
  {
   "cell_type": "code",
   "execution_count": 4,
   "metadata": {},
   "outputs": [
    {
     "name": "stdout",
     "output_type": "stream",
     "text": [
      "collecting label: ok01\n"
     ]
    }
   ],
   "source": [
    "for label in labels:\n",
    "    os.mkdir(IMAGE_PATH + '\\\\' +  label)\n",
    "    cap = cv2.VideoCapture(0)\n",
    "    print('collecting label: {}'.format(label))\n",
    "    time.sleep(5)\n",
    "    for imgNum in range(number_imgs):\n",
    "        ret, frame = cap.read()\n",
    "        _, landmarks = detector.findHands(frame)\n",
    "        # find hand area\n",
    "        try:\n",
    "            min_x = 0\n",
    "            min_y = 0\n",
    "            max_x = 0\n",
    "            max_y = 0\n",
    "            if len(landmarks) > 0:\n",
    "                xx, yy = zip(*landmarks)\n",
    "                min_x = min(xx)\n",
    "                min_y = min(yy)\n",
    "                max_x = max(xx)\n",
    "                max_y = max(yy)\n",
    "                # cv2.rectangle(image, (min_x, min_y),\n",
    "                #             (max_x, max_y), (0, 255, 255), 2)\n",
    "                if max_x//min_x == max_y//min_y:\n",
    "                    cv2.rectangle(frame, (min_x-padding, min_y - padding),\n",
    "                                (max_x + padding, max_y + padding), (0, 255, 0), 2)\n",
    "                    min_x, max_x, min_y, max_y =  min_x-padding, max_x + padding, min_y - padding, max_y + padding\n",
    "\n",
    "                else:\n",
    "                    min_x, max_x, min_y, max_y = reshape_contours(\n",
    "                        min_x, max_x, min_y, max_y, padding)\n",
    "                    cv2.rectangle(frame, (min_x, min_y),\n",
    "                                (max_x, max_y), (0, 255, 0), 2)\n",
    "        except Exception as e:\n",
    "            print(e)\n",
    "            # PROCESS IMAGE\n",
    "        try:\n",
    "            cropImage = frame[min_y:max_y, min_x:max_x]\n",
    "            cropImage = np.array(cropImage)\n",
    "            # cropImage = cv2.resize(cropImage, (256, 256))\n",
    "            hsv = cv2.cvtColor(cropImage, cv2.COLOR_BGR2HSV)\n",
    "            mask = cv2.inRange(hsv, (58,255,255), (62, 255, 255))\n",
    "            cv2.imshow(\"Mask\", mask)\n",
    "            #write frame in to folder label\n",
    "            imageName = os.path.join(IMAGE_PATH, label, label+'.'+'{}.jpg'.format(str(uuid.uuid1())))\n",
    "            cv2.imwrite(imageName, mask)\n",
    "            cv2.imshow('frame', frame)\n",
    "        except Exception as e: \n",
    "            print(e)\n",
    "            pass\n",
    "        time.sleep(2)\n",
    "\n",
    "        if cv2.waitKey(1) & 0xFF == ord('q'):\n",
    "            break\n",
    "    cap.release()"
   ]
  },
  {
   "cell_type": "code",
   "execution_count": null,
   "metadata": {},
   "outputs": [],
   "source": []
  }
 ],
 "metadata": {
  "interpreter": {
   "hash": "a5ea16011df0e27d7c8f9014ff9e5fc8fe07d3b8ff77a69ff99ae6a3d8090ff3"
  },
  "kernelspec": {
   "display_name": "Python 3.7.9 64-bit",
   "language": "python",
   "name": "python3"
  },
  "language_info": {
   "codemirror_mode": {
    "name": "ipython",
    "version": 3
   },
   "file_extension": ".py",
   "mimetype": "text/x-python",
   "name": "python",
   "nbconvert_exporter": "python",
   "pygments_lexer": "ipython3",
   "version": "3.7.9"
  },
  "orig_nbformat": 4
 },
 "nbformat": 4,
 "nbformat_minor": 2
}
